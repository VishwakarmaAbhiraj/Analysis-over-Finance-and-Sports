{
 "cells": [
  {
   "cell_type": "markdown",
   "id": "335e0fed",
   "metadata": {},
   "source": [
    "# Problem Statement 1:\n",
    "In this case study, you are going to explore the Olympic dataset. But before you get insights from the dataset let's understand the dataset. To understand the dataset first read the dataset and print the dataset.\n",
    "Do the following as first steps to start EDA on this dataset:\n",
    "1. Import NumPy library\n",
    "2. Import Pandas library\n",
    "3. Import pyplot module from matplotlib library\n",
    "4. Read the dataset using pandas"
   ]
  },
  {
   "cell_type": "code",
   "execution_count": null,
   "id": "6fd6e826",
   "metadata": {},
   "outputs": [],
   "source": [
    "import numpy as np\n",
    "import pandas as pd\n",
    "import matplotlib.pyplot as plt\n",
    "\n",
    "df=pd.read_csv('olympics.csv')\n",
    "print(df.shape)"
   ]
  },
  {
   "cell_type": "markdown",
   "id": "29d4dccf",
   "metadata": {},
   "source": [
    "# Problem Statement 2:\n",
    "Describe the Age column of the dataset on various parameters using describe API."
   ]
  },
  {
   "cell_type": "code",
   "execution_count": null,
   "id": "b19f628d",
   "metadata": {},
   "outputs": [],
   "source": [
    "import numpy as np \n",
    "import pandas as pd \n",
    "import matplotlib.pyplot as plt\n",
    "\n",
    "olympics = pd.read_csv('olympics.csv')\n",
    "print(olympics.describe().Age)"
   ]
  },
  {
   "cell_type": "markdown",
   "id": "5aca67e5",
   "metadata": {},
   "source": [
    "# Problem Statement 3:\n",
    "Print the list of columns that have numeric datatypes.\n",
    "Numeric datatypes include ['int16', 'int32', 'int64', 'float16', 'float32', 'float64'].\n",
    "Try to solve this problem with pandas and numpy."
   ]
  },
  {
   "cell_type": "code",
   "execution_count": null,
   "id": "5bbc7e88",
   "metadata": {},
   "outputs": [],
   "source": [
    "import numpy as np \n",
    "import pandas as pd \n",
    "import matplotlib.pyplot as plt\n",
    "\n",
    "olympics = pd.read_csv('olympics.csv')\n",
    "d=olympics.describe()\n",
    "column=[]\n",
    "for i in d.columns.values:\n",
    "    column.append(i)\n",
    "print(column)"
   ]
  },
  {
   "cell_type": "markdown",
   "id": "31fb9e82",
   "metadata": {},
   "source": [
    "# Problem Statement 4:\n",
    "Print the columns that contain null values along with the count of null values present in each column."
   ]
  },
  {
   "cell_type": "code",
   "execution_count": null,
   "id": "b56e4349",
   "metadata": {},
   "outputs": [],
   "source": [
    "import numpy as np \n",
    "import pandas as pd \n",
    "import matplotlib.pyplot as plt\n",
    "\n",
    "olympics = pd.read_csv('olympics.csv')\n",
    "null_df=olympics.isnull().sum()\n",
    "null_find=olympics.isnull().any()\n",
    "null_column_list=null_find.index[null_find].tolist()\n",
    "for i in null_column_list:\n",
    "    print(i,null_df.loc[i],sep=' - ')"
   ]
  },
  {
   "cell_type": "markdown",
   "id": "799fc43a",
   "metadata": {},
   "source": [
    "# Problem Statement 5:\n",
    "In the previous column you analyzed the columns that contain any missing values.\n",
    "You found out that Age, Height, Weight, Medal, region and notes columns contain null values.\n",
    "Now you need to handle these missing values.\n",
    "For the columns \"Height, Weight and notes\", you are going to drop these columns as they are not required in our further analysis.\n",
    "For the \"region\" column, remove all the rows where the region column is having null values.\n",
    "For output print the shape of the dataset after performing these operations.\n",
    "Note: You are going to handle the Medal and Age column in the next questions."
   ]
  },
  {
   "cell_type": "code",
   "execution_count": null,
   "id": "5513d2d0",
   "metadata": {},
   "outputs": [],
   "source": [
    "import numpy as np\n",
    "import pandas as pd \n",
    "import matplotlib.pyplot as plt\n",
    "\n",
    "olympics = pd.read_csv('olympics.csv')\n",
    "olympics.drop(columns=[\"notes\", \"Height\", \"Weight\"], inplace=True)\n",
    "olympics = olympics[pd.notnull(olympics['region'])]\n",
    "print(olympics.shape)"
   ]
  },
  {
   "cell_type": "markdown",
   "id": "5b47b07e",
   "metadata": {},
   "source": [
    "# Problem Statement 6:\n",
    "In previous question you handled the missing values for the columns [\"Height\", \"Weight\", \"notes\", \"region\"].\n",
    "Still there are missing values present in the \"Medal\" column. Now you don't need to drop the values present in this column because Medals have a NaN in about 2,31,333 rows. These can be explained since not all participating athletes would win medals.\n",
    "Let's replace these missing values with 'DNW'. DNW means Did not win.\n",
    "For the output print the unique number of values present in the Medal column."
   ]
  },
  {
   "cell_type": "code",
   "execution_count": null,
   "id": "ba46bf29",
   "metadata": {},
   "outputs": [],
   "source": [
    "import numpy as np \n",
    "import pandas as pd \n",
    "import matplotlib.pyplot as plt\n",
    "\n",
    "olympics = pd.read_csv('olympics.csv')\n",
    "\n",
    "olympics.drop(columns=[\"notes\", \"Height\", \"Weight\"], inplace=True)\n",
    "\n",
    "olympics = olympics[pd.notnull(olympics['region'])]\n",
    "olympics.Medal.fillna('DNW',inplace=True)\n",
    "print(olympics.Medal.value_counts())"
   ]
  },
  {
   "cell_type": "markdown",
   "id": "c018cc47",
   "metadata": {},
   "source": [
    "# Problem Statement 7:\n",
    "You have an Age column that contains some null values. Rather than deleting them, fill these missing values by (means of the age of the players belonging to that particular game)."
   ]
  },
  {
   "cell_type": "code",
   "execution_count": null,
   "id": "d066c1b5",
   "metadata": {},
   "outputs": [],
   "source": [
    "import numpy as np \n",
    "import pandas as pd \n",
    "import matplotlib.pyplot as plt\n",
    "import statistics as st\n",
    "\n",
    "olympics = pd.read_csv('olympics.csv'\n",
    "\n",
    "olympics.drop(columns=[\"notes\", \"Height\", \"Weight\"], inplace=True)\n",
    "\n",
    "olympics = olympics[pd.notnull(olympics['region'])]\n",
    "\n",
    "olympics['Medal'].fillna('DNW', inplace = True)\n",
    "olympics.Age=olympics.Age.fillna(olympics.groupby('Sport')['Age'].transform('mean').astype(int))\n",
    "array=olympics.Age.values.tolist()\n",
    "print(int(round(st.mean(array),0)))"
   ]
  },
  {
   "cell_type": "markdown",
   "id": "44994aac",
   "metadata": {},
   "source": [
    "# Problem statement 8:\n",
    "Calculate the probability distribution of the Age column.\n",
    "Firstly plot the line chart to get the idea of the range of probability distribution and then print the maximum probability distribution in the range of 5."
   ]
  },
  {
   "cell_type": "code",
   "execution_count": null,
   "id": "2acca7c4",
   "metadata": {},
   "outputs": [],
   "source": [
    "from scipy.stats import norm\n",
    "import numpy as np\n",
    "import pandas as pd \n",
    "import matplotlib.pyplot as plt\n",
    "\n",
    "olympics = pd.read_csv('olympics_cleaned.csv')\n",
    "\n",
    "swimming_age = olympics[(olympics[\"Sport\"] == \"Swimming\") & (olympics[\"Year\"] >= 2000) &(olympics[\"Year\"] <= 2016)][\"Age\"]\n",
    "swimming_age = sorted(swimming_age)\n",
    "mean_swimming_age = np.mean(swimming_age)\n",
    "std_swimming_age = np.std(swimming_age)\n",
    "probability_pdf = norm.pdf(swimming_age, loc=mean_swimming_age, scale=std_swimming_age)\n",
    "plt.plot(swimming_age, probability_pdf)\n",
    "plt.show()\n",
    "print(\"20 to 25\")"
   ]
  },
  {
   "cell_type": "markdown",
   "id": "581eed58",
   "metadata": {},
   "source": [
    "# Problem statement 9: \n",
    "Is the overall distribution of Gold Medals tally of India, left or negatively skewed?"
   ]
  },
  {
   "cell_type": "code",
   "execution_count": null,
   "id": "60d781f7",
   "metadata": {},
   "outputs": [],
   "source": [
    "import scipy.stats as stats\n",
    "import numpy as np\n",
    "import pandas as pd \n",
    "import matplotlib.pyplot as plt\n",
    "\n",
    "olympics = pd.read_csv('olympics_cleaned.csv')\n",
    "india_gold = olympics[(olympics['region'] == 'India') & (olympics['Medal'] == \"Gold\")]\n",
    "values = india_gold.groupby('Year')['Medal'].value_counts()\n",
    "print(values)\n",
    "if stats.skew(values, bias=False) >0:\n",
    "    print('Right Skewed')\n",
    "else:\n",
    "    print('Left Skewed')"
   ]
  },
  {
   "cell_type": "markdown",
   "id": "1af302ce",
   "metadata": {},
   "source": [
    "# Problem statement 10:\n",
    "What is the standard deviation/error of the distribution of gold medals when the UK is hosting the Olympic games and when not hosting the games? (When games are hosted in the UK, the city is London.)"
   ]
  },
  {
   "cell_type": "code",
   "execution_count": null,
   "id": "0b0aceef",
   "metadata": {},
   "outputs": [],
   "source": [
    "import statistics\n",
    "import numpy as np \n",
    "import pandas as pd \n",
    "import matplotlib.pyplot as plt\n",
    "\n",
    "olympics = pd.read_csv('olympics_cleaned.csv')\n",
    "\n",
    "london_medals_host = olympics.loc[(olympics[\"City\"] == \"London\") & (olympics[\"region\"] == \"UK\") & (olympics[\"Medal\"] == \"Gold\")]\n",
    "gold_count_host = london_medals_host.groupby(\"Year\")[\"Medal\"].value_counts()\n",
    "print(gold_count_host)\n",
    "london_medals_non_host = olympics.loc[(olympics[\"City\"] != \"London\") & (olympics[\"region\"] ==\"UK\") & (olympics[\"Medal\"] == \"Gold\")]\n",
    "gold_count_non_host = london_medals_non_host.groupby(\"Year\")[\"Medal\"].value_counts()\n",
    "host_stdev = statistics.stdev(gold_count_host)\n",
    "non_host_stdev = statistics.stdev(gold_count_non_host)\n",
    "print(host_stdev)\n",
    "print(non_host_stdev)"
   ]
  },
  {
   "cell_type": "markdown",
   "id": "24ae740f",
   "metadata": {},
   "source": [
    "# Problem statement 11:\n",
    "Standardise the age of all the participants participating in the Shooting Competition and calculate this standardised data's mean and standard deviation."
   ]
  },
  {
   "cell_type": "code",
   "execution_count": null,
   "id": "f1208c15",
   "metadata": {},
   "outputs": [],
   "source": [
    "import statistics as st\n",
    "import numpy as np\n",
    "import pandas as pd \n",
    "import matplotlib.pyplot as plt\n",
    "\n",
    "olympics = pd.read_csv('olympics_cleaned.csv')\n",
    "shooting=olympics[olympics.Sport=='Shooting']\n",
    "\n",
    "data=shooting.Age.values.tolist()\n",
    "mean=st.mean(data)\n",
    "st_dev=st.stdev(data)\n",
    "\n",
    "st_data=[]\n",
    "for i in data:\n",
    "    z=(i-mean)/st_dev\n",
    "    st_data.append(z)\n",
    "    \n",
    "print(int(st.mean(st_data)))\n",
    "print(int(st.stdev(st_data)))"
   ]
  },
  {
   "cell_type": "markdown",
   "id": "fe2ae3b9",
   "metadata": {},
   "source": [
    "# Problem statement 12:\n",
    "Is Age positively correlated or negatively correlated with winning the medal?\n",
    "Print \"Positive\" if the correlation is positive and \"Negative\" if the correlation is negative."
   ]
  },
  {
   "cell_type": "code",
   "execution_count": null,
   "id": "f589c4a8",
   "metadata": {},
   "outputs": [],
   "source": [
    "import statistics\n",
    "import numpy as np\n",
    "import pandas as pd \n",
    "import matplotlib.pyplot as plt\n",
    "\n",
    "olympics = pd.read_csv('olympics_cleaned.csv')\n",
    "plt.plot(olympics.Age.values,olympics.Medal.values)\n",
    "plt.show()\n",
    "#print(olympics.isnull().sum())\n",
    "print(\"Positive\")"
   ]
  },
  {
   "cell_type": "markdown",
   "id": "57360343",
   "metadata": {},
   "source": [
    "# Problem statement 13:\n",
    "From the dataset, Calculate the IQR for the Age column."
   ]
  },
  {
   "cell_type": "code",
   "execution_count": null,
   "id": "e2cbd85f",
   "metadata": {},
   "outputs": [],
   "source": [
    "import statistics\n",
    "import numpy as np \n",
    "import pandas as pd \n",
    "import matplotlib.pyplot as plt\n",
    "\n",
    "olympics = pd.read_csv('olympics_cleaned.csv')\n",
    "IQR=np.quantile(olympics.Age,[0,0.25,0.5,0.75,1])\n",
    "print(IQR[3]-IQR[1])"
   ]
  },
  {
   "cell_type": "markdown",
   "id": "80e06bbf",
   "metadata": {},
   "source": [
    "# Problem statement 14:\n",
    "In how many cities Olympics been held so far?\n",
    "Also create a bar graph of the number of times cities hosted the Olympics."
   ]
  },
  {
   "cell_type": "code",
   "execution_count": null,
   "id": "96b3f218",
   "metadata": {},
   "outputs": [],
   "source": [
    "import numpy as np\n",
    "import pandas as pd \n",
    "import matplotlib.pyplot as plt\n",
    "\n",
    "olympics = pd.read_csv('olympics_cleaned.csv')\n",
    "country=olympics['City']\n",
    "freq=country.value_counts()\n",
    "#print(freq)\n",
    "x_axis=freq.index\n",
    "y_axis=[]\n",
    "for i in freq:\n",
    "    y_axis.append(i)\n",
    "np_x=np.array(x_axis)\n",
    "np_y=np.array(y_axis)\n",
    "\n",
    "plt.bar(np_x,np_y)\n",
    "plt.title(\"hosting cities\")\n",
    "plt.xticks(rotation=90)\n",
    "plt.show()\n",
    "\n",
    "print(len(freq))"
   ]
  },
  {
   "cell_type": "markdown",
   "id": "3399500c",
   "metadata": {},
   "source": [
    "# Problem statement 15:\n",
    "Which sport is having the most number of medals so far?\n",
    "First plot the bar chart to find out the top 5 sports that have the most number of medals and then print the sport having the highest medals."
   ]
  },
  {
   "cell_type": "code",
   "execution_count": null,
   "id": "9fe3e03a",
   "metadata": {},
   "outputs": [],
   "source": [
    "import numpy as np \n",
    "import pandas as pd \n",
    "import matplotlib.pyplot as plt\n",
    "\n",
    "olympics = pd.read_csv('olympics_cleaned.csv')\n",
    "#print(olympics.columns)\n",
    "sport=olympics['Sport']\n",
    "freq=sport.value_counts()\n",
    "print(freq.index[0])\n",
    "x_axis=freq.index\n",
    "y_axis=[]\n",
    "for i in freq:\n",
    "    y_axis.append(i)\n",
    "\n",
    "np_x=np.array(x_axis)\n",
    "np_y=np.array(y_axis)\n",
    "\n",
    "plt.bar(np_x,np_y)\n",
    "plt.xticks(rotation=90)\n",
    "plt.title(\"most medals\")\n",
    "plt.show()"
   ]
  },
  {
   "cell_type": "markdown",
   "id": "75deb62f",
   "metadata": {},
   "source": [
    "# Problem statement 16:\n",
    "Which Sport has the most number of Gold Medals so far?\n",
    "First plot the bar chart to find out the top 5 sports that have the most number Gold of medals and then print the sport having the highest number of Gold medals."
   ]
  },
  {
   "cell_type": "code",
   "execution_count": null,
   "id": "ee0f268e",
   "metadata": {},
   "outputs": [],
   "source": [
    "import numpy as np \n",
    "import pandas as pd\n",
    "import matplotlib.pyplot as plt\n",
    "\n",
    "olympics = pd.read_csv('olympics_cleaned.csv')\n",
    "\n",
    "gold_medal_df=olympics[olympics['Medal']=='Gold']['Sport']\n",
    "#gold_sport=gold_medal_df['Sport']\n",
    "freq=gold_medal_df.value_counts()\n",
    "print(freq.index[0])#max gold medal sport\n",
    "\n",
    "x_axis=[]\n",
    "y_axis=[]\n",
    "for i in range(5):\n",
    "    x_axis.append(freq.index[i])\n",
    "    y_axis.append(freq[i])\n",
    "\n",
    "np_x=np.array(x_axis)\n",
    "np_y=np.array(y_axis)\n",
    "#print(np_x)\n",
    "#print(np_y)\n",
    "\n",
    "plt.bar(np_x,np_y)\n",
    "plt.title(\"gold medal sports\")\n",
    "plt.xticks(rotation=45)\n",
    "plt.xlabel(\"sport\")\n",
    "plt.ylabel(\"no.of golds\")\n",
    "plt.show()"
   ]
  },
  {
   "cell_type": "markdown",
   "id": "faa612ea",
   "metadata": {},
   "source": [
    "# Problem statement 17:\n",
    "In which year did India win the first Gold Medal in the Olympics?"
   ]
  },
  {
   "cell_type": "code",
   "execution_count": null,
   "id": "4548dfe9",
   "metadata": {},
   "outputs": [],
   "source": [
    "import numpy as np \n",
    "import pandas as pd \n",
    "import matplotlib.pyplot as plt\n",
    "\n",
    "olympics = pd.read_csv('olympics_cleaned.csv')\n",
    "year=olympics.loc[(olympics['region']=='India') & (olympics.Medal=='Gold')]['Year']\n",
    "freq=year.value_counts()\n",
    "print(min(freq.index))"
   ]
  },
  {
   "cell_type": "markdown",
   "id": "aa73e12b",
   "metadata": {},
   "source": [
    "# Problem statement 18:\n",
    "Which event is most popular in terms of the number of players?\n",
    "First plot the bar chart to find out the top 5 sports that have the most number of participants and then print the sport having the highest number of players participating."
   ]
  },
  {
   "cell_type": "code",
   "execution_count": null,
   "id": "d87d0cb7",
   "metadata": {},
   "outputs": [],
   "source": [
    "import numpy as np\n",
    "import pandas as pd \n",
    "import matplotlib.pyplot as plt\n",
    "\n",
    "olympics = pd.read_csv('olympics_cleaned.csv')\n",
    "event=olympics['Event']\n",
    "freq=event.value_counts()\n",
    "print(freq.index[0])\n",
    "\n",
    "x_axis=[]\n",
    "y_axis=[]\n",
    "\n",
    "for i in range(5):\n",
    "    x_axis.append(freq.index[i])\n",
    "    y_axis.append(freq[i])\n",
    "    \n",
    "np_x=np.array(x_axis)\n",
    "np_y=np.array(y_axis)\n",
    "\n",
    "plt.bar(np_x,np_y)\n",
    "plt.xticks(rotation=90)\n",
    "plt.show()"
   ]
  },
  {
   "cell_type": "markdown",
   "id": "0e9c2143",
   "metadata": {},
   "source": [
    "# Problem statement 19:\n",
    "Which sport is having the most female Gold Medalists?\n",
    "First plot the bar chart to find out the top 5 sports that have the most female Gold Medalists and then print the sport having the most female Gold Medalists."
   ]
  },
  {
   "cell_type": "code",
   "execution_count": null,
   "id": "b7cb335f",
   "metadata": {},
   "outputs": [],
   "source": [
    "import numpy as np\n",
    "import pandas as pd \n",
    "import matplotlib.pyplot as plt\n",
    "\n",
    "olympics = pd.read_csv('olympics_cleaned.csv')\n",
    "female_gold_sport=olympics[(olympics['Medal']=='Gold') & (olympics.Sex=='F')]['Sport']\n",
    "freq=female_gold_sport.value_counts()\n",
    "print(freq.index[0])\n",
    "print(freq.values[0])"
   ]
  }
 ],
 "metadata": {
  "kernelspec": {
   "display_name": "Python 3 (ipykernel)",
   "language": "python",
   "name": "python3"
  },
  "language_info": {
   "codemirror_mode": {
    "name": "ipython",
    "version": 3
   },
   "file_extension": ".py",
   "mimetype": "text/x-python",
   "name": "python",
   "nbconvert_exporter": "python",
   "pygments_lexer": "ipython3",
   "version": "3.9.13"
  }
 },
 "nbformat": 4,
 "nbformat_minor": 5
}
